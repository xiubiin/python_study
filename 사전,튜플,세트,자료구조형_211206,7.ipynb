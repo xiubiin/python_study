{
  "nbformat": 4,
  "nbformat_minor": 0,
  "metadata": {
    "colab": {
      "name": "사전,튜플,세트,자료구조형_211206,7",
      "provenance": []
    },
    "kernelspec": {
      "name": "python3",
      "display_name": "Python 3"
    },
    "language_info": {
      "name": "python"
    }
  },
  "cells": [
    {
      "cell_type": "code",
      "metadata": {
        "colab": {
          "base_uri": "https://localhost:8080/"
        },
        "id": "Qz7So3Js9qBc",
        "outputId": "1542fb08-6ee1-44b5-f907-737a47db5348"
      },
      "source": [
        "room={2:\"정수빈\",16:\"김세진\"}\n",
        "print(room[2])\n",
        "print(room[16])"
      ],
      "execution_count": null,
      "outputs": [
        {
          "output_type": "stream",
          "name": "stdout",
          "text": [
            "정수빈\n",
            "김세진\n"
          ]
        }
      ]
    },
    {
      "cell_type": "code",
      "metadata": {
        "colab": {
          "base_uri": "https://localhost:8080/"
        },
        "id": "IY5N13wV-6qw",
        "outputId": "ca66298f-8b06-4497-f087-e0eb0b37bb8b"
      },
      "source": [
        "print(room.get(2))\n"
      ],
      "execution_count": null,
      "outputs": [
        {
          "output_type": "stream",
          "name": "stdout",
          "text": [
            "정수빈\n"
          ]
        }
      ]
    },
    {
      "cell_type": "code",
      "metadata": {
        "colab": {
          "base_uri": "https://localhost:8080/"
        },
        "id": "-foDGLtT_JcN",
        "outputId": "7ac15f93-1743-40f9-8f73-de1b96596b4d"
      },
      "source": [
        "print(room.get(5))\n",
        "print(room.get(5,\"사용가능\"))"
      ],
      "execution_count": null,
      "outputs": [
        {
          "output_type": "stream",
          "name": "stdout",
          "text": [
            "None\n",
            "사용가능\n"
          ]
        }
      ]
    },
    {
      "cell_type": "markdown",
      "metadata": {
        "id": "BKicjj2aAmPG"
      },
      "source": [
        "사전자료형안에 어떤값이 있는지"
      ]
    },
    {
      "cell_type": "code",
      "metadata": {
        "colab": {
          "base_uri": "https://localhost:8080/"
        },
        "id": "R8zN4cSFAqrD",
        "outputId": "3b997f05-5ac1-4967-a501-a4768288e7e1"
      },
      "source": [
        "print(2 in room)\n",
        "print(11 in room)"
      ],
      "execution_count": null,
      "outputs": [
        {
          "output_type": "stream",
          "name": "stdout",
          "text": [
            "True\n",
            "False\n"
          ]
        }
      ]
    },
    {
      "cell_type": "code",
      "metadata": {
        "colab": {
          "base_uri": "https://localhost:8080/"
        },
        "id": "U6-FsCdYA_yp",
        "outputId": "3b75fe67-6714-4580-fdce-fb927d97e790"
      },
      "source": [
        "room={\"A-3\":\"정수빈\",\"B-100\":\"김세진\"}\n",
        "print(room[\"A-3\"])\n",
        "print(room[\"B-100\"])"
      ],
      "execution_count": null,
      "outputs": [
        {
          "output_type": "stream",
          "name": "stdout",
          "text": [
            "정수빈\n",
            "김세진\n"
          ]
        }
      ]
    },
    {
      "cell_type": "code",
      "metadata": {
        "colab": {
          "base_uri": "https://localhost:8080/"
        },
        "id": "G81nDgqcEDSm",
        "outputId": "8c94965e-b520-4719-abfb-deb4e03b0b46"
      },
      "source": [
        "del room[\"A-3\"]\n",
        "print(room)"
      ],
      "execution_count": null,
      "outputs": [
        {
          "output_type": "stream",
          "name": "stdout",
          "text": [
            "{'B-100': '김세진'}\n"
          ]
        }
      ]
    },
    {
      "cell_type": "code",
      "metadata": {
        "colab": {
          "base_uri": "https://localhost:8080/"
        },
        "id": "JmQ9kqNQFksk",
        "outputId": "09e0d2bd-207b-4ad3-8a44-9f199d49f991"
      },
      "source": [
        " #key 만 출력\n",
        " print(room.keys())\n",
        " #value 들만 출력\n",
        " print(room.values()) \n",
        " #key , value 쌍으로 출력\n",
        " print(room.items())"
      ],
      "execution_count": null,
      "outputs": [
        {
          "output_type": "stream",
          "name": "stdout",
          "text": [
            "dict_keys(['B-100'])\n",
            "dict_values(['김세진'])\n",
            "dict_items([('B-100', '김세진')])\n"
          ]
        }
      ]
    },
    {
      "cell_type": "code",
      "metadata": {
        "id": "UDAxNd3WQr9S"
      },
      "source": [
        "room.clear()"
      ],
      "execution_count": null,
      "outputs": []
    },
    {
      "cell_type": "markdown",
      "metadata": {
        "id": "5Tw4NTDQMFrv"
      },
      "source": [
        ""
      ]
    },
    {
      "cell_type": "code",
      "metadata": {
        "colab": {
          "base_uri": "https://localhost:8080/"
        },
        "id": "xMv34vkJFARF",
        "outputId": "f2bb6867-eb57-407d-ffc6-524ef68f005a"
      },
      "source": [
        "#튜플\n",
        "menu=(\"돈까스\" , \"마라탕\")\n",
        "print(menu[0])\n",
        "print(menu[1])"
      ],
      "execution_count": null,
      "outputs": [
        {
          "output_type": "stream",
          "name": "stdout",
          "text": [
            "돈까스\n",
            "마라탕\n"
          ]
        }
      ]
    },
    {
      "cell_type": "code",
      "metadata": {
        "colab": {
          "base_uri": "https://localhost:8080/"
        },
        "id": "zYI9t2SsG_z5",
        "outputId": "53a3d929-1c9a-4a4d-cdcd-775fbf467386"
      },
      "source": [
        "(name, age, hobby)=(\"정수빈\",26,\"코딩\")\n",
        "print(name, age , hobby)"
      ],
      "execution_count": null,
      "outputs": [
        {
          "output_type": "stream",
          "name": "stdout",
          "text": [
            "정수빈 26 코딩\n"
          ]
        }
      ]
    },
    {
      "cell_type": "code",
      "metadata": {
        "colab": {
          "base_uri": "https://localhost:8080/"
        },
        "id": "p_oVnAWwHv1o",
        "outputId": "6d03d2cc-57d0-4610-8851-7bb31da648a8"
      },
      "source": [
        "#세트(집합)\n",
        "#중복안됨,순서 없음\n",
        "set={1,2,3,3,3,}\n",
        "print(set)"
      ],
      "execution_count": null,
      "outputs": [
        {
          "output_type": "stream",
          "name": "stdout",
          "text": [
            "{1, 2, 3}\n"
          ]
        }
      ]
    },
    {
      "cell_type": "code",
      "metadata": {
        "colab": {
          "base_uri": "https://localhost:8080/"
        },
        "id": "fJCewIauID7f",
        "outputId": "fea71792-d9f8-4940-cbd0-45c054223c53"
      },
      "source": [
        "#교집합\n",
        "java={\"정수빈\",\"김세진\",\"정우진\"}\n",
        "python= set([\"정수빈\",\"류근재\"])\n",
        "print(java & python)"
      ],
      "execution_count": null,
      "outputs": [
        {
          "output_type": "stream",
          "name": "stdout",
          "text": [
            "{'정수빈'}\n"
          ]
        }
      ]
    },
    {
      "cell_type": "code",
      "metadata": {
        "colab": {
          "base_uri": "https://localhost:8080/"
        },
        "id": "GFoKmS04Jw5b",
        "outputId": "ab8339de-b630-449d-f718-a94c63fd80ed"
      },
      "source": [
        "#합집합\n",
        "print(java | python)\n",
        "print(java.union(python))"
      ],
      "execution_count": null,
      "outputs": [
        {
          "output_type": "stream",
          "name": "stdout",
          "text": [
            "{'김세진', '정수빈', '정우진', '류근재'}\n",
            "{'김세진', '정수빈', '정우진', '류근재'}\n"
          ]
        }
      ]
    },
    {
      "cell_type": "code",
      "metadata": {
        "colab": {
          "base_uri": "https://localhost:8080/"
        },
        "id": "hR-q0h-dKNUt",
        "outputId": "e4194282-111e-4bfb-acb9-ec180beab9c9"
      },
      "source": [
        "#차집합(java 할수있지만  python 못하는)\n",
        "print(java - python)\n",
        "print(java.difference(python))"
      ],
      "execution_count": null,
      "outputs": [
        {
          "output_type": "stream",
          "name": "stdout",
          "text": [
            "{'김세진', '정우진'}\n",
            "{'김세진', '정우진'}\n"
          ]
        }
      ]
    },
    {
      "cell_type": "code",
      "metadata": {
        "colab": {
          "base_uri": "https://localhost:8080/"
        },
        "id": "0x9Tg8fdK0Cn",
        "outputId": "7090f3e7-667d-4901-bab4-3b6f5399a568"
      },
      "source": [
        "#python 할 줄 아는 사람이 늘어남\n",
        "python.add(\"조상철\")\n",
        "print(python)"
      ],
      "execution_count": null,
      "outputs": [
        {
          "output_type": "stream",
          "name": "stdout",
          "text": [
            "{'조상철', '정수빈', '류근재'}\n"
          ]
        }
      ]
    },
    {
      "cell_type": "code",
      "metadata": {
        "colab": {
          "base_uri": "https://localhost:8080/"
        },
        "id": "GGNG9kKsLK0z",
        "outputId": "dc85d6a2-87ef-4690-c958-a90ba7b987cf"
      },
      "source": [
        "#java를 까먹음\n",
        "java.remove(\"김세진\")\n",
        "print(java)"
      ],
      "execution_count": null,
      "outputs": [
        {
          "output_type": "stream",
          "name": "stdout",
          "text": [
            "{'정수빈', '정우진'}\n"
          ]
        }
      ]
    },
    {
      "cell_type": "code",
      "metadata": {
        "colab": {
          "base_uri": "https://localhost:8080/"
        },
        "id": "54My8KbuL4Jk",
        "outputId": "87a7a60c-0598-405b-b138-70cd89539c15"
      },
      "source": [
        "#자료구조의 변경\n",
        "menu={\"커피\",\"우유\",\"주스\"}\n",
        "print(menu,type(menu))\n",
        "\n",
        "menu=list(menu)\n",
        "print(menu,type(menu))\n",
        "\n",
        "menu=tuple(menu)\n",
        "print(menu, type(menu))\n",
        "\n",
        "menu=set(menu)\n",
        "print(menu, type(menu))"
      ],
      "execution_count": null,
      "outputs": [
        {
          "output_type": "stream",
          "name": "stdout",
          "text": [
            "{'우유', '주스', '커피'} <class 'set'>\n",
            "['우유', '주스', '커피'] <class 'list'>\n",
            "('우유', '주스', '커피') <class 'tuple'>\n",
            "{'우유', '주스', '커피'} <class 'set'>\n"
          ]
        }
      ]
    }
  ]
}